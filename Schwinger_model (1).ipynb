{
 "cells": [
  {
   "cell_type": "code",
   "execution_count": 1,
   "id": "dd08c5ea",
   "metadata": {},
   "outputs": [],
   "source": [
    "import numpy as np\n",
    "# Importing standard Qiskit libraries\n",
    "from qiskit import *\n",
    "from qiskit.tools.jupyter import *\n",
    "from qiskit.visualization import *\n",
    "from ibm_quantum_widgets import *\n",
    "\n",
    "from qiskit.tools.monitor import *\n",
    "%matplotlib inline\n",
    "\n",
    "from scipy.linalg import expm\n",
    "import matplotlib.pyplot as plt\n",
    "from ibm_quantum_widgets import CircuitComposer\n",
    "\n",
    "\n",
    "# Loading your IBM Quantum account(s)\n",
    "provider = IBMQ.load_account()"
   ]
  },
  {
   "cell_type": "code",
   "execution_count": 2,
   "id": "68acf5cd",
   "metadata": {},
   "outputs": [],
   "source": [
    "#### Exact time evolution \n",
    "# Pauli matrices\n",
    "\n",
    "S_x = np.matrix([[0.0,1.0],[1.0,0.0]])\n",
    "S_y = np.matrix([[0.0,-1.0j],[1.0j,0.0]])\n",
    "S_z = np.matrix([[1.0,0.0],[0.0,-1.0]])\n",
    "Id = np.matrix([[1.0,0.0],[0.0,1.0]])\n",
    "\n",
    "# Single qubit states 0 and 1 in computational basis\n",
    "vect_0 = np.matrix([[1.0],[0.0]])\n",
    "vect_1 = np.matrix([[0.0],[1.0]])\n",
    "\n"
   ]
  },
  {
   "cell_type": "code",
   "execution_count": 3,
   "id": "457ec762",
   "metadata": {},
   "outputs": [],
   "source": [
    "# The Schwinger model parameters\n",
    "mu = 0.1\n",
    "x = 0.6"
   ]
  },
  {
   "cell_type": "code",
   "execution_count": 4,
   "id": "e4ae2b49",
   "metadata": {},
   "outputs": [],
   "source": [
    "# Unitarytime evolution operator under H\n",
    "\n",
    "def U_exact(t,x,mu):\n",
    "    H = (x/np.sqrt(2))*np.kron(S_x,S_x) + (x/np.sqrt(2))*np.kron(S_y,S_y) - mu*np.kron(S_z,S_z) +\\\n",
    "    x*(1.0 + (1.0/np.sqrt(2)))*np.kron(Id,S_x) - 0.5*np.kron(Id,S_z) - (1.0 + mu)*np.kron(S_z,Id) +\\\n",
    "    x*(1.0 - (1.0/np.sqrt(2)))*np.kron(S_z, S_x)\n",
    "    return expm(-1.0j*t*H)\n"
   ]
  },
  {
   "cell_type": "code",
   "execution_count": 5,
   "id": "04f07736",
   "metadata": {},
   "outputs": [
    {
     "name": "stdout",
     "output_type": "stream",
     "text": [
      "Probability 01 =  [0.0, 0.014279532227667731, 0.05569589690867274, 0.1201536813864746, 0.20137353020348137, 0.2916295751523156, 0.38263162083894314, 0.4664317568927078, 0.5362372307766643, 0.587031522308546, 0.6159394179540106, 0.6223130899996523, 0.607557410658409, 0.5747471148374631, 0.528110837539648, 0.4724649524394642, 0.4126738840283906, 0.3531961238930574, 0.2977513311140845, 0.2491191063043279]\n"
     ]
    },
    {
     "data": {
      "text/plain": [
       "[<matplotlib.lines.Line2D at 0x7f7eb61c3040>]"
      ]
     },
     "execution_count": 5,
     "metadata": {},
     "output_type": "execute_result"
    },
    {
     "data": {
      "image/png": "[encoded data removed]",
      "text/plain": [
       "<Figure size 432x288 with 1 Axes>"
      ]
     },
     "metadata": {
      "needs_background": "light"
     },
     "output_type": "display_data"
    }
   ],
   "source": [
    "# time step\n",
    "dt = 0.1\n",
    "# number of time step\n",
    "NSteps = 20\n",
    "nSteps = [n for n in range(NSteps)]\n",
    "\n",
    "# initial state\n",
    "v00 = np.kron(vect_0,vect_0)\n",
    "# electron-positron pair state\n",
    "v01 = np.kron(vect_0,vect_1)\n",
    "\n",
    "P01_exact = []\n",
    "\n",
    "for j in range(NSteps):\n",
    "    t = nSteps[j]*dt\n",
    "    res = np.transpose(v01)*U_exact(t,x,mu)*v00\n",
    "    P01_exact.append(np.abs(res[0,0])**2)\n",
    "    \n",
    "print('Probability 01 = ', P01_exact)\n",
    "Time = dt*np.arange(0,NSteps,1)\n",
    "plt.plot(Time, P01_exact, 'black')"
   ]
  },
  {
   "cell_type": "code",
   "execution_count": 6,
   "id": "cc41c121",
   "metadata": {},
   "outputs": [],
   "source": [
    "#### Trotterized time dynamics with Qiskit\n",
    "\n",
    "q = QuantumRegister(2,'q')\n",
    "c = ClassicalRegister(2, 'c')\n",
    "circ = QuantumCircuit(q,c)\n",
    "\n",
    "\n",
    "def U_trot(dt,q):\n",
    "    \n",
    "    circ.rxx(-2.0*(0.6/np.sqrt(2))*dt, 0, 1) \n",
    "    circ.sdg(q)\n",
    "    circ.rxx(-2.0*(0.6/np.sqrt(2)*dt), 0, 1)\n",
    "    circ.s(q)\n",
    "    circ.h(q)\n",
    "    circ.rxx(2.0*0.1*dt, 0, 1) \n",
    "    circ.h(q)\n",
    "    circ.rx(-2.0*0.6*(1.0 + (1.0/np.sqrt(2)))*dt, 1) #0 ou 1 le qubit \n",
    "    circ.rz(1.0*dt, 1) \n",
    "    circ.rz(2.0*(1.0 + 0.1)*dt, 0)\n",
    "    circ.h(0)\n",
    "    circ.rxx(-2.0*0.6*(1.0 - (1.0/np.sqrt(2)))*dt, 0, 1) \n",
    "    circ.h(0)\n",
    "\n",
    "    return circ\n",
    "\n",
    "def U_approx(circ, dt, nSteps, q):\n",
    "    if nSteps>0:\n",
    "        for ind in range(nSteps): \n",
    "            circ = U_trot(dt, q)  \n",
    "    else: \n",
    "        circ = U_trot(0,q)\n",
    "    return circ\n",
    "    \n"
   ]
  },
  {
   "cell_type": "code",
   "execution_count": 7,
   "id": "41b92ade",
   "metadata": {},
   "outputs": [
    {
     "name": "stdout",
     "output_type": "stream",
     "text": [
      "Probability 01 =  [8.024582750190568e-32, 0.014313156771279416, 0.056026902699410464, 0.12129368419059881, 0.20398326507098963, 0.29639051486161255, 0.39011053854319555, 0.47696159768404267, 0.5498342224999619, 0.6033615686009527, 0.6343378778320995, 0.6418528090240887, 0.6271520713363146, 0.5932720056577452, 0.5445217666459916, 0.4858982665517088, 0.42251568446160365, 0.3591155418376728, 0.299699617579819, 0.24730186704778465]\n"
     ]
    },
    {
     "data": {
      "text/plain": [
       "[<matplotlib.lines.Line2D at 0x7f7eb60f5550>,\n",
       " <matplotlib.lines.Line2D at 0x7f7eb60f58b0>]"
      ]
     },
     "execution_count": 7,
     "metadata": {},
     "output_type": "execute_result"
    },
    {
     "data": {
      "image/png": "[encoded data removed]",
      "text/plain": [
       "<Figure size 432x288 with 1 Axes>"
      ]
     },
     "metadata": {
      "needs_background": "light"
     },
     "output_type": "display_data"
    }
   ],
   "source": [
    "## Infinite number of measurements\n",
    "# time step\n",
    "dt = 0.1\n",
    "# number of time steps\n",
    "NSteps = 20\n",
    "nSteps = [n for n in range(NSteps)]\n",
    "# number of measurements per task\n",
    "nShots = 0\n",
    "\n",
    "P01_trotter = []\n",
    "\n",
    "# Select local simulator as backend device\n",
    "backend = Aer.get_backend('statevector_simulator')\n",
    "\n",
    "# Run 20 time steps\n",
    "for j in range(NSteps):\n",
    "    circ = QuantumCircuit(2,2)\n",
    "    \n",
    "    circ = U_approx(circ, dt, nSteps[j], q)\n",
    "    \n",
    "    job = execute(circ, backend, shots = nShots)\n",
    "    result = job.result()\n",
    "    outputstatee = result.get_statevector(circ)\n",
    "    \n",
    "    P01_trotter.append(np.abs(outputstatee[2])**2) \n",
    "\n",
    "print('Probability 01 = ', P01_trotter)\n",
    "Time = dt*np.arange(0,NSteps,1)\n",
    "plt.plot(Time, P01_trotter, 'blue', Time, P01_exact, 'black')\n",
    "    \n",
    "\n"
   ]
  },
  {
   "cell_type": "code",
   "execution_count": 11,
   "id": "8b68dfbc",
   "metadata": {},
   "outputs": [
    {
     "name": "stdout",
     "output_type": "stream",
     "text": [
      "Probability 01 =  [0, 0.022, 0.044, 0.12, 0.244, 0.336, 0.386, 0.46, 0.534, 0.5740000000000001, 0.588, 0.638, 0.632, 0.592, 0.518, 0.462, 0.444, 0.376, 0.296, 0.254]\n"
     ]
    },
    {
     "data": {
      "text/plain": [
       "[<matplotlib.lines.Line2D at 0x7f7eaff73940>,\n",
       " <matplotlib.lines.Line2D at 0x7f7eaff73a60>]"
      ]
     },
     "execution_count": 11,
     "metadata": {},
     "output_type": "execute_result"
    },
    {
     "data": {
      "image/png": "[encoded data removed]",
      "text/plain": [
       "<Figure size 432x288 with 1 Axes>"
      ]
     },
     "metadata": {
      "needs_background": "light"
     },
     "output_type": "display_data"
    }
   ],
   "source": [
    "## Finite measurements statistics\n",
    "#time step\n",
    "dt = 0.1\n",
    "# number of time steps\n",
    "NSteps=20\n",
    "nSteps=[n for n in range(NSteps)]\n",
    "# number of measurements per task\n",
    "nShots = 500\n",
    "\n",
    "P01_trotter_finite = []\n",
    "\n",
    "# Select Local simulator as a backend device\n",
    "backend = Aer.get_backend('qasm_simulator')\n",
    "\n",
    "# Run 20 time steps\n",
    "for j in range(NSteps):\n",
    "    circ = QuantumCircuit(2,2)\n",
    "    circ = U_approx(circ, dt, nSteps[j], q)\n",
    "    circ.z(q)\n",
    "    circ.measure(range(2),range(2))\n",
    "    \n",
    "    job = execute(circ, backend, shots=nShots)\n",
    "    \n",
    "    result = job.result()\n",
    "    count = result.get_counts(circ)\n",
    "    \n",
    "    try:\n",
    "        var = count.get('10')\n",
    "        P01_trotter_finite.append((1.0/nShots)*var)\n",
    "    except:\n",
    "        P01_trotter_finite.append(0)   \n",
    "    \n",
    "         \n",
    "print('Probability 01 = ', P01_trotter_finite)\n",
    "\n",
    "\n",
    "Time = dt*np.arange(0,NSteps,1)\n",
    "plt.plot(Time, P01_trotter_finite, 'blue', Time, P01_exact, 'black')\n",
    "    \n",
    "\n"
   ]
  },
  {
   "cell_type": "code",
   "execution_count": null,
   "id": "05b62858",
   "metadata": {},
   "outputs": [],
   "source": []
  },
  {
   "cell_type": "code",
   "execution_count": null,
   "id": "074b604d",
   "metadata": {},
   "outputs": [],
   "source": []
  }
 ],
 "metadata": {
  "kernelspec": {
   "display_name": "Python 3",
   "language": "python",
   "name": "python3"
  },
  "language_info": {
   "codemirror_mode": {
    "name": "ipython",
    "version": 3
   },
   "file_extension": ".py",
   "mimetype": "text/x-python",
   "name": "python",
   "nbconvert_exporter": "python",
   "pygments_lexer": "ipython3",
   "version": "3.8.8"
  }
 },
 "nbformat": 4,
 "nbformat_minor": 5
}
